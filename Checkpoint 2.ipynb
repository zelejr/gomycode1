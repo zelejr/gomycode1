{
 "cells": [
  {
   "cell_type": "code",
   "execution_count": null,
   "id": "6f7e570a",
   "metadata": {},
   "outputs": [],
   "source": [
    "import random\n",
    "\n",
    "\n",
    "number = random.randint(1,100)\n",
    "\n",
    "\n",
    "\n",
    "numGuesses = 3\n",
    "\n",
    " guess != number:\n",
    "    \n",
    "    \n",
    "    \n",
    "    \n",
    "     guess = int(input(\"Enter Guess: \"))\n",
    "     numGuesses += 3   \n",
    "        \n",
    "        \n",
    "     if (guess < number):\n",
    "         print(\"Your guess is too low. Guess again.!\")\n",
    "     elif (guess > number):\n",
    "         print(\"Your guess is too high. Guess again.!\")\n",
    "     else:\n",
    "         print(\"You won!\")\n",
    "         print(f\"It took you {numGuesses} guesses to get it right!\")"
   ]
  },
  {
   "cell_type": "code",
   "execution_count": null,
   "id": "07b9b7fe",
   "metadata": {},
   "outputs": [],
   "source": [
    "print(\"Welcome to the Guessing Game. In this game, I will choose a random number between 1 and 100 and your goal will be to guess the number I choose. I will tell you if the number you guess is higher or lower than my choice. Lets Start.\")\n",
    "\n",
    "a = random.randint(0, 100)\n",
    "\n",
    "print(\"I have chosen my number. Lets start !\")\n",
    "\n",
    "b = int(input(\"Enter guess\"))  \n",
    "\n",
    "while b != a:  \n",
    "    if a < b:\n",
    "        print(\"LOWER\")\n",
    "    if a > b:\n",
    "        print(\"HIGHER\")\n",
    "    b = int(input(\"Enter guess\"))\n",
    "\n",
    "print(\"You WIN\")"
   ]
  },
  {
   "cell_type": "code",
   "execution_count": null,
   "id": "8b79e306",
   "metadata": {},
   "outputs": [],
   "source": [
    "import random\n",
    "a = random.randint(0, 3)\n",
    "\n",
    "print(\"I have chosen my number. Lets start!\")\n",
    "\n",
    "guesses = 0\n",
    "b = None\n",
    "\n",
    "while b != a:\n",
    "    b = int(input(\"Enter guess: \")) \n",
    "    if a < b:\n",
    "        print(\"LOWER\")\n",
    "    if a > b:\n",
    "        print(\"HIGHER\")\n",
    "    guesses += 1\n",
    "\n",
    "print(f'You WIN after {guesses} guesses!')"
   ]
  },
  {
   "cell_type": "code",
   "execution_count": null,
   "id": "69723933",
   "metadata": {},
   "outputs": [],
   "source": [
    "import random\n",
    "\n",
    "guess = random.randint(1, 300)\n",
    "\n",
    "min = 1\n",
    "max = 300\n",
    "luck = 9\n",
    "\n",
    "while luck > 0:\n",
    "    attempt = 0\n",
    "    while min > attempt or max < attempt:\n",
    "        attempt = int(input('Entrer a number between %s and  %s' % (min, max)))\n",
    "    \n",
    "    if attempt == guess:\n",
    "        print(\"Youpi 🎉🎉🎉🎉\")\n",
    "        break\n",
    "    else:\n",
    "        luck -= 1\n",
    "        if guess < attempt:\n",
    "            max = attempt\n",
    "            print('%d is greater than the number to guess'%(attempt))\n",
    "        else:\n",
    "            min = attempt\n",
    "            print('%d is lower than the number to guess'%(attempt))\n",
    "            \n",
    "if luck == 0:\n",
    "    print('The guess number is %d'%(guess))\n",
    "\n",
    "\n",
    "\n",
    "\n",
    "\n"
   ]
  },
  {
   "cell_type": "code",
   "execution_count": null,
   "id": "fc2a1ca6",
   "metadata": {},
   "outputs": [],
   "source": []
  }
 ],
 "metadata": {
  "kernelspec": {
   "display_name": "Python 3 (ipykernel)",
   "language": "python",
   "name": "python3"
  },
  "language_info": {
   "codemirror_mode": {
    "name": "ipython",
    "version": 3
   },
   "file_extension": ".py",
   "mimetype": "text/x-python",
   "name": "python",
   "nbconvert_exporter": "python",
   "pygments_lexer": "ipython3",
   "version": "3.11.5"
  }
 },
 "nbformat": 4,
 "nbformat_minor": 5
}
